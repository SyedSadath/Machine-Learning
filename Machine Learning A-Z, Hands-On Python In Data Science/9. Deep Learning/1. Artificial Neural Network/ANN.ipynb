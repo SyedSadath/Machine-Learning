{
 "cells": [
  {
   "cell_type": "markdown",
   "id": "b10626c5-6173-43d1-b407-d69a8d518f08",
   "metadata": {},
   "source": [
    "# Artificail Neural Network"
   ]
  },
  {
   "cell_type": "markdown",
   "id": "5865cf1f-82d9-4e2e-90eb-075e2dfcec7f",
   "metadata": {},
   "source": [
    "### Importing the libraries"
   ]
  },
  {
   "cell_type": "code",
   "execution_count": 1,
   "id": "8ba7c8b5-1259-4cb6-ac00-9faf8ad6bb3a",
   "metadata": {},
   "outputs": [
    {
     "name": "stderr",
     "output_type": "stream",
     "text": [
      "2022-01-20 11:27:04.478027: W tensorflow/stream_executor/platform/default/dso_loader.cc:64] Could not load dynamic library 'libcudart.so.11.0'; dlerror: libcudart.so.11.0: cannot open shared object file: No such file or directory\n",
      "2022-01-20 11:27:04.478157: I tensorflow/stream_executor/cuda/cudart_stub.cc:29] Ignore above cudart dlerror if you do not have a GPU set up on your machine.\n"
     ]
    }
   ],
   "source": [
    "import pandas as pd\n",
    "import numpy as np\n",
    "import tensorflow as tf"
   ]
  },
  {
   "cell_type": "code",
   "execution_count": 2,
   "id": "6201fc19-4f1e-4380-8eae-10c222a0fb98",
   "metadata": {},
   "outputs": [
    {
     "data": {
      "text/plain": [
       "'2.7.0'"
      ]
     },
     "execution_count": 2,
     "metadata": {},
     "output_type": "execute_result"
    }
   ],
   "source": [
    "tf.__version__"
   ]
  },
  {
   "cell_type": "markdown",
   "id": "cfe857b4-8287-44d9-9a18-d7554ad54b92",
   "metadata": {},
   "source": [
    "## Part 1 - Data Preprocessing"
   ]
  },
  {
   "cell_type": "markdown",
   "id": "14ef7d3a-e4ea-4903-a43c-673ef0e69a50",
   "metadata": {},
   "source": [
    "### Importing the Dataset"
   ]
  },
  {
   "cell_type": "code",
   "execution_count": 3,
   "id": "d1a8bba1-c393-4008-84e3-dae37b4faaca",
   "metadata": {},
   "outputs": [
    {
     "data": {
      "text/plain": [
       "array([[619, 'France', 'Female', ..., 1, 1, 101348.88],\n",
       "       [608, 'Spain', 'Female', ..., 0, 1, 112542.58],\n",
       "       [502, 'France', 'Female', ..., 1, 0, 113931.57],\n",
       "       ...,\n",
       "       [709, 'France', 'Female', ..., 0, 1, 42085.58],\n",
       "       [772, 'Germany', 'Male', ..., 1, 0, 92888.52],\n",
       "       [792, 'France', 'Female', ..., 1, 0, 38190.78]], dtype=object)"
      ]
     },
     "execution_count": 3,
     "metadata": {},
     "output_type": "execute_result"
    }
   ],
   "source": [
    "dataset = pd.read_csv('Churn_Modelling.csv')\n",
    "x = dataset.iloc[:, 3:-1].values\n",
    "y = dataset.iloc[:, -1].values\n",
    "x"
   ]
  },
  {
   "cell_type": "markdown",
   "id": "efdf0d54-3415-4244-a4c7-83571e5a24ca",
   "metadata": {},
   "source": [
    "### Encoding Categorical data"
   ]
  },
  {
   "cell_type": "code",
   "execution_count": 4,
   "id": "5bd2fe9d-1ba9-4085-92d9-ec4fbb03766f",
   "metadata": {},
   "outputs": [],
   "source": [
    "from sklearn.preprocessing import LabelEncoder\n",
    "le = LabelEncoder()\n",
    "x[:, 2] = le.fit_transform(x[:, 2])"
   ]
  },
  {
   "cell_type": "code",
   "execution_count": 5,
   "id": "978f3f53-32fd-4eb2-8592-20968f1685a4",
   "metadata": {},
   "outputs": [
    {
     "data": {
      "text/plain": [
       "array([[1.0, 0.0, 0.0, ..., 1, 1, 101348.88],\n",
       "       [0.0, 0.0, 1.0, ..., 0, 1, 112542.58],\n",
       "       [1.0, 0.0, 0.0, ..., 1, 0, 113931.57],\n",
       "       ...,\n",
       "       [1.0, 0.0, 0.0, ..., 0, 1, 42085.58],\n",
       "       [0.0, 1.0, 0.0, ..., 1, 0, 92888.52],\n",
       "       [1.0, 0.0, 0.0, ..., 1, 0, 38190.78]], dtype=object)"
      ]
     },
     "execution_count": 5,
     "metadata": {},
     "output_type": "execute_result"
    }
   ],
   "source": [
    "from sklearn.compose import ColumnTransformer\n",
    "from sklearn.preprocessing import OneHotEncoder\n",
    "ct = ColumnTransformer(transformers=[('encoder', OneHotEncoder(), [1])], remainder='passthrough')\n",
    "x = np.array(ct.fit_transform(x))\n",
    "x"
   ]
  },
  {
   "cell_type": "markdown",
   "id": "82df67c9-284e-4c6a-92e3-0e8704583c80",
   "metadata": {},
   "source": [
    "### Splitting the dataset into the Training set and Test set"
   ]
  },
  {
   "cell_type": "code",
   "execution_count": 6,
   "id": "37a9bead-3f4f-421c-8995-bd8bbf8e438a",
   "metadata": {},
   "outputs": [],
   "source": [
    "from sklearn.model_selection import train_test_split\n",
    "x_train, x_test, y_train, y_test = train_test_split(x,y, test_size=0.2, random_state=0)"
   ]
  },
  {
   "cell_type": "markdown",
   "id": "3d3557c0-54ff-4f92-a63c-79db2acae4f9",
   "metadata": {},
   "source": [
    "### Feature Scaling"
   ]
  },
  {
   "cell_type": "code",
   "execution_count": 7,
   "id": "6b986221-4fc3-4384-b550-d1b3de7d9d2c",
   "metadata": {},
   "outputs": [],
   "source": [
    "# Feature scaling is absolutely necessary for DL\n",
    "\n",
    "from sklearn.preprocessing import StandardScaler\n",
    "sc = StandardScaler()\n",
    "\n",
    "x_train = sc.fit_transform(x_train)\n",
    "x_test = sc.transform(x_test)"
   ]
  },
  {
   "cell_type": "markdown",
   "id": "c6f84bae-1d20-4226-8eff-df593099bcc4",
   "metadata": {},
   "source": [
    "## Part 2 - Building the ANN"
   ]
  },
  {
   "cell_type": "markdown",
   "id": "6a82da89-2494-43c7-8e3d-a61a614f73d3",
   "metadata": {},
   "source": [
    "### Initialinzing the ANN"
   ]
  },
  {
   "cell_type": "code",
   "execution_count": 8,
   "id": "0e5eb440-08d2-421e-9761-a6a4e80eef73",
   "metadata": {},
   "outputs": [
    {
     "name": "stderr",
     "output_type": "stream",
     "text": [
      "2022-01-20 11:27:30.625190: W tensorflow/stream_executor/platform/default/dso_loader.cc:64] Could not load dynamic library 'libcuda.so.1'; dlerror: libcuda.so.1: cannot open shared object file: No such file or directory\n",
      "2022-01-20 11:27:30.625324: W tensorflow/stream_executor/cuda/cuda_driver.cc:269] failed call to cuInit: UNKNOWN ERROR (303)\n",
      "2022-01-20 11:27:30.625426: I tensorflow/stream_executor/cuda/cuda_diagnostics.cc:156] kernel driver does not appear to be running on this host (Alderson): /proc/driver/nvidia/version does not exist\n"
     ]
    }
   ],
   "source": [
    "ann = tf.keras.models.Sequential()"
   ]
  },
  {
   "cell_type": "markdown",
   "id": "4c25d669-a4cb-454f-b670-ab60cb482435",
   "metadata": {},
   "source": [
    "### Adding the input layer and the first hidden layer"
   ]
  },
  {
   "cell_type": "code",
   "execution_count": 9,
   "id": "5a6150d2-e657-4f65-abe9-bb4dc60dbffa",
   "metadata": {},
   "outputs": [],
   "source": [
    "ann.add(tf.keras.layers.Dense(units= 6, activation='relu')) #activation_function used is \"rectifier activation function\"."
   ]
  },
  {
   "cell_type": "markdown",
   "id": "8731a7ab-e37c-4066-969b-f3fd871a39a9",
   "metadata": {},
   "source": [
    "### Adding the second hidden layer"
   ]
  },
  {
   "cell_type": "code",
   "execution_count": 10,
   "id": "eaede231-5191-4dff-8318-67a442af3dc7",
   "metadata": {},
   "outputs": [],
   "source": [
    "ann.add(tf.keras.layers.Dense(units= 6, activation='relu')) #activation_function used is \"rectifier activation function\"."
   ]
  },
  {
   "cell_type": "markdown",
   "id": "6c0b0167-b9f5-45df-b26c-5d3d2ad40ecc",
   "metadata": {},
   "source": [
    "### Adding the output layer"
   ]
  },
  {
   "cell_type": "code",
   "execution_count": 11,
   "id": "3e5ba5f1-e0dd-4cb2-9171-660ce01c83f3",
   "metadata": {},
   "outputs": [],
   "source": [
    "ann.add(tf.keras.layers.Dense(units=1, activation='sigmoid'))"
   ]
  },
  {
   "cell_type": "markdown",
   "id": "8b9d185c-dcdd-44db-a0f5-1ca6b3c1f41c",
   "metadata": {},
   "source": [
    "## Part 3 - Training the ANN"
   ]
  },
  {
   "cell_type": "markdown",
   "id": "c9be3641-fc0d-46db-81c0-1d976309434f",
   "metadata": {},
   "source": [
    "### Compiling the ANN"
   ]
  },
  {
   "cell_type": "code",
   "execution_count": 12,
   "id": "272b3140-c315-44c9-a7aa-9a7247714109",
   "metadata": {},
   "outputs": [],
   "source": [
    "#param's - loss='binary_crossentropy'-> for binary classification and for non binary classification loss='categorical_crossentropy' and\n",
    "#then the activation will be =soft_max\n",
    "ann.compile(optimizer = 'adam', loss='binary_crossentropy', metrics = ['accuracy']) "
   ]
  },
  {
   "cell_type": "markdown",
   "id": "085d41b7-cc04-45c5-b0a2-6f49b6a3cc72",
   "metadata": {},
   "source": [
    "### Training the ANN on the Training set"
   ]
  },
  {
   "cell_type": "code",
   "execution_count": 13,
   "id": "24b55b3f-51c1-49aa-b3ae-9f2c46340496",
   "metadata": {},
   "outputs": [
    {
     "name": "stdout",
     "output_type": "stream",
     "text": [
      "Epoch 1/100\n",
      "250/250 [==============================] - 5s 6ms/step - loss: 0.5760 - accuracy: 0.7366\n",
      "Epoch 2/100\n",
      "250/250 [==============================] - 2s 6ms/step - loss: 0.4719 - accuracy: 0.7960\n",
      "Epoch 3/100\n",
      "250/250 [==============================] - 1s 5ms/step - loss: 0.4467 - accuracy: 0.7960\n",
      "Epoch 4/100\n",
      "250/250 [==============================] - 1s 4ms/step - loss: 0.4357 - accuracy: 0.7962\n",
      "Epoch 5/100\n",
      "250/250 [==============================] - 1s 4ms/step - loss: 0.4287 - accuracy: 0.7969\n",
      "Epoch 6/100\n",
      "250/250 [==============================] - 1s 4ms/step - loss: 0.4226 - accuracy: 0.7987\n",
      "Epoch 7/100\n",
      "250/250 [==============================] - 1s 4ms/step - loss: 0.4169 - accuracy: 0.8011\n",
      "Epoch 8/100\n",
      "250/250 [==============================] - 1s 4ms/step - loss: 0.4110 - accuracy: 0.8099\n",
      "Epoch 9/100\n",
      "250/250 [==============================] - 1s 4ms/step - loss: 0.4047 - accuracy: 0.8300\n",
      "Epoch 10/100\n",
      "250/250 [==============================] - 1s 4ms/step - loss: 0.3986 - accuracy: 0.8341\n",
      "Epoch 11/100\n",
      "250/250 [==============================] - 1s 5ms/step - loss: 0.3929 - accuracy: 0.8381\n",
      "Epoch 12/100\n",
      "250/250 [==============================] - 1s 4ms/step - loss: 0.3870 - accuracy: 0.8436\n",
      "Epoch 13/100\n",
      "250/250 [==============================] - 1s 4ms/step - loss: 0.3820 - accuracy: 0.8443\n",
      "Epoch 14/100\n",
      "250/250 [==============================] - 1s 4ms/step - loss: 0.3775 - accuracy: 0.8479\n",
      "Epoch 15/100\n",
      "250/250 [==============================] - 1s 4ms/step - loss: 0.3740 - accuracy: 0.8494\n",
      "Epoch 16/100\n",
      "250/250 [==============================] - 1s 4ms/step - loss: 0.3707 - accuracy: 0.8501\n",
      "Epoch 17/100\n",
      "250/250 [==============================] - 1s 5ms/step - loss: 0.3677 - accuracy: 0.8518\n",
      "Epoch 18/100\n",
      "250/250 [==============================] - 1s 4ms/step - loss: 0.3659 - accuracy: 0.8545\n",
      "Epoch 19/100\n",
      "250/250 [==============================] - 1s 4ms/step - loss: 0.3639 - accuracy: 0.8565\n",
      "Epoch 20/100\n",
      "250/250 [==============================] - 1s 4ms/step - loss: 0.3622 - accuracy: 0.8565\n",
      "Epoch 21/100\n",
      "250/250 [==============================] - 1s 4ms/step - loss: 0.3607 - accuracy: 0.8575\n",
      "Epoch 22/100\n",
      "250/250 [==============================] - 2s 7ms/step - loss: 0.3595 - accuracy: 0.8580\n",
      "Epoch 23/100\n",
      "250/250 [==============================] - 1s 4ms/step - loss: 0.3588 - accuracy: 0.8572\n",
      "Epoch 24/100\n",
      "250/250 [==============================] - 1s 4ms/step - loss: 0.3576 - accuracy: 0.8571\n",
      "Epoch 25/100\n",
      "250/250 [==============================] - 1s 4ms/step - loss: 0.3566 - accuracy: 0.8586\n",
      "Epoch 26/100\n",
      "250/250 [==============================] - 1s 5ms/step - loss: 0.3556 - accuracy: 0.8587\n",
      "Epoch 27/100\n",
      "250/250 [==============================] - 1s 5ms/step - loss: 0.3549 - accuracy: 0.8593\n",
      "Epoch 28/100\n",
      "250/250 [==============================] - 1s 6ms/step - loss: 0.3544 - accuracy: 0.8579\n",
      "Epoch 29/100\n",
      "250/250 [==============================] - 1s 5ms/step - loss: 0.3537 - accuracy: 0.8593\n",
      "Epoch 30/100\n",
      "250/250 [==============================] - 2s 7ms/step - loss: 0.3529 - accuracy: 0.8581\n",
      "Epoch 31/100\n",
      "250/250 [==============================] - 1s 5ms/step - loss: 0.3523 - accuracy: 0.8586\n",
      "Epoch 32/100\n",
      "250/250 [==============================] - 1s 4ms/step - loss: 0.3519 - accuracy: 0.8601\n",
      "Epoch 33/100\n",
      "250/250 [==============================] - 1s 5ms/step - loss: 0.3511 - accuracy: 0.8594\n",
      "Epoch 34/100\n",
      "250/250 [==============================] - 2s 6ms/step - loss: 0.3509 - accuracy: 0.8595\n",
      "Epoch 35/100\n",
      "250/250 [==============================] - 2s 6ms/step - loss: 0.3499 - accuracy: 0.8593\n",
      "Epoch 36/100\n",
      "250/250 [==============================] - 1s 4ms/step - loss: 0.3496 - accuracy: 0.8608\n",
      "Epoch 37/100\n",
      "250/250 [==============================] - 1s 4ms/step - loss: 0.3488 - accuracy: 0.8601\n",
      "Epoch 38/100\n",
      "250/250 [==============================] - 1s 5ms/step - loss: 0.3484 - accuracy: 0.8615\n",
      "Epoch 39/100\n",
      "250/250 [==============================] - 1s 5ms/step - loss: 0.3478 - accuracy: 0.8614\n",
      "Epoch 40/100\n",
      "250/250 [==============================] - 1s 6ms/step - loss: 0.3471 - accuracy: 0.8611\n",
      "Epoch 41/100\n",
      "250/250 [==============================] - 1s 5ms/step - loss: 0.3465 - accuracy: 0.8610\n",
      "Epoch 42/100\n",
      "250/250 [==============================] - 1s 5ms/step - loss: 0.3463 - accuracy: 0.8622\n",
      "Epoch 43/100\n",
      "250/250 [==============================] - 1s 5ms/step - loss: 0.3459 - accuracy: 0.8605\n",
      "Epoch 44/100\n",
      "250/250 [==============================] - 1s 5ms/step - loss: 0.3451 - accuracy: 0.8619\n",
      "Epoch 45/100\n",
      "250/250 [==============================] - 1s 6ms/step - loss: 0.3448 - accuracy: 0.8619\n",
      "Epoch 46/100\n",
      "250/250 [==============================] - 1s 5ms/step - loss: 0.3445 - accuracy: 0.8611\n",
      "Epoch 47/100\n",
      "250/250 [==============================] - 1s 5ms/step - loss: 0.3444 - accuracy: 0.8622\n",
      "Epoch 48/100\n",
      "250/250 [==============================] - 1s 5ms/step - loss: 0.3440 - accuracy: 0.8631\n",
      "Epoch 49/100\n",
      "250/250 [==============================] - 2s 7ms/step - loss: 0.3436 - accuracy: 0.8619\n",
      "Epoch 50/100\n",
      "250/250 [==============================] - 2s 9ms/step - loss: 0.3435 - accuracy: 0.8615\n",
      "Epoch 51/100\n",
      "250/250 [==============================] - 2s 6ms/step - loss: 0.3430 - accuracy: 0.8619\n",
      "Epoch 52/100\n",
      "250/250 [==============================] - 1s 5ms/step - loss: 0.3431 - accuracy: 0.8621\n",
      "Epoch 53/100\n",
      "250/250 [==============================] - 1s 5ms/step - loss: 0.3428 - accuracy: 0.8625\n",
      "Epoch 54/100\n",
      "250/250 [==============================] - 1s 4ms/step - loss: 0.3423 - accuracy: 0.8622\n",
      "Epoch 55/100\n",
      "250/250 [==============================] - 1s 5ms/step - loss: 0.3425 - accuracy: 0.8640\n",
      "Epoch 56/100\n",
      "250/250 [==============================] - 1s 4ms/step - loss: 0.3418 - accuracy: 0.8635\n",
      "Epoch 57/100\n",
      "250/250 [==============================] - 1s 4ms/step - loss: 0.3415 - accuracy: 0.8637\n",
      "Epoch 58/100\n",
      "250/250 [==============================] - 1s 5ms/step - loss: 0.3415 - accuracy: 0.8629\n",
      "Epoch 59/100\n",
      "250/250 [==============================] - 1s 5ms/step - loss: 0.3414 - accuracy: 0.8636\n",
      "Epoch 60/100\n",
      "250/250 [==============================] - 1s 4ms/step - loss: 0.3411 - accuracy: 0.8629\n",
      "Epoch 61/100\n",
      "250/250 [==============================] - 1s 4ms/step - loss: 0.3409 - accuracy: 0.8635\n",
      "Epoch 62/100\n",
      "250/250 [==============================] - 1s 4ms/step - loss: 0.3406 - accuracy: 0.8644\n",
      "Epoch 63/100\n",
      "250/250 [==============================] - 1s 4ms/step - loss: 0.3405 - accuracy: 0.8626\n",
      "Epoch 64/100\n",
      "250/250 [==============================] - 1s 4ms/step - loss: 0.3407 - accuracy: 0.8635\n",
      "Epoch 65/100\n",
      "250/250 [==============================] - 1s 5ms/step - loss: 0.3401 - accuracy: 0.8643\n",
      "Epoch 66/100\n",
      "250/250 [==============================] - 1s 4ms/step - loss: 0.3398 - accuracy: 0.8630\n",
      "Epoch 67/100\n",
      "250/250 [==============================] - 1s 4ms/step - loss: 0.3406 - accuracy: 0.8639\n",
      "Epoch 68/100\n",
      "250/250 [==============================] - 1s 5ms/step - loss: 0.3398 - accuracy: 0.8635\n",
      "Epoch 69/100\n",
      "250/250 [==============================] - 1s 5ms/step - loss: 0.3398 - accuracy: 0.8640\n",
      "Epoch 70/100\n",
      "250/250 [==============================] - 1s 5ms/step - loss: 0.3394 - accuracy: 0.8636\n",
      "Epoch 71/100\n",
      "250/250 [==============================] - 2s 8ms/step - loss: 0.3393 - accuracy: 0.8648\n",
      "Epoch 72/100\n",
      "250/250 [==============================] - 2s 8ms/step - loss: 0.3392 - accuracy: 0.8643\n",
      "Epoch 73/100\n",
      "250/250 [==============================] - 1s 5ms/step - loss: 0.3392 - accuracy: 0.8636\n",
      "Epoch 74/100\n",
      "250/250 [==============================] - 1s 6ms/step - loss: 0.3390 - accuracy: 0.8650\n",
      "Epoch 75/100\n",
      "250/250 [==============================] - 1s 6ms/step - loss: 0.3386 - accuracy: 0.8646\n",
      "Epoch 76/100\n",
      "250/250 [==============================] - 1s 5ms/step - loss: 0.3385 - accuracy: 0.8643\n",
      "Epoch 77/100\n",
      "250/250 [==============================] - 1s 6ms/step - loss: 0.3386 - accuracy: 0.8644\n",
      "Epoch 78/100\n",
      "250/250 [==============================] - 1s 5ms/step - loss: 0.3381 - accuracy: 0.8646\n",
      "Epoch 79/100\n",
      "250/250 [==============================] - 1s 5ms/step - loss: 0.3380 - accuracy: 0.8651\n",
      "Epoch 80/100\n",
      "250/250 [==============================] - 1s 5ms/step - loss: 0.3379 - accuracy: 0.8652\n",
      "Epoch 81/100\n",
      "250/250 [==============================] - 1s 5ms/step - loss: 0.3381 - accuracy: 0.8633\n",
      "Epoch 82/100\n",
      "250/250 [==============================] - 1s 5ms/step - loss: 0.3377 - accuracy: 0.8643\n",
      "Epoch 83/100\n",
      "250/250 [==============================] - 2s 6ms/step - loss: 0.3376 - accuracy: 0.8652\n",
      "Epoch 84/100\n",
      "250/250 [==============================] - 1s 6ms/step - loss: 0.3380 - accuracy: 0.8635\n",
      "Epoch 85/100\n",
      "250/250 [==============================] - 1s 5ms/step - loss: 0.3373 - accuracy: 0.8640\n",
      "Epoch 86/100\n",
      "250/250 [==============================] - 1s 5ms/step - loss: 0.3369 - accuracy: 0.8651\n",
      "Epoch 87/100\n",
      "250/250 [==============================] - 1s 5ms/step - loss: 0.3370 - accuracy: 0.8655\n",
      "Epoch 88/100\n",
      "250/250 [==============================] - 1s 5ms/step - loss: 0.3370 - accuracy: 0.8652\n",
      "Epoch 89/100\n",
      "250/250 [==============================] - 1s 5ms/step - loss: 0.3376 - accuracy: 0.8641\n",
      "Epoch 90/100\n",
      "250/250 [==============================] - 1s 5ms/step - loss: 0.3369 - accuracy: 0.8649\n",
      "Epoch 91/100\n",
      "250/250 [==============================] - 1s 6ms/step - loss: 0.3369 - accuracy: 0.8639\n",
      "Epoch 92/100\n",
      "250/250 [==============================] - 1s 5ms/step - loss: 0.3365 - accuracy: 0.8648\n",
      "Epoch 93/100\n",
      "250/250 [==============================] - 2s 6ms/step - loss: 0.3364 - accuracy: 0.8669\n",
      "Epoch 94/100\n",
      "250/250 [==============================] - 1s 6ms/step - loss: 0.3366 - accuracy: 0.8640\n",
      "Epoch 95/100\n",
      "250/250 [==============================] - 1s 6ms/step - loss: 0.3364 - accuracy: 0.8646\n",
      "Epoch 96/100\n",
      "250/250 [==============================] - 1s 6ms/step - loss: 0.3362 - accuracy: 0.8627\n",
      "Epoch 97/100\n",
      "250/250 [==============================] - 1s 5ms/step - loss: 0.3360 - accuracy: 0.8662\n",
      "Epoch 98/100\n",
      "250/250 [==============================] - 1s 6ms/step - loss: 0.3361 - accuracy: 0.8641\n",
      "Epoch 99/100\n",
      "250/250 [==============================] - 1s 5ms/step - loss: 0.3359 - accuracy: 0.8646\n",
      "Epoch 100/100\n",
      "250/250 [==============================] - 1s 5ms/step - loss: 0.3362 - accuracy: 0.8652\n"
     ]
    },
    {
     "data": {
      "text/plain": [
       "<keras.callbacks.History at 0x7ff2fc3607c0>"
      ]
     },
     "execution_count": 13,
     "metadata": {},
     "output_type": "execute_result"
    }
   ],
   "source": [
    "ann.fit(x_train, y_train, batch_size=32, epochs=100)"
   ]
  },
  {
   "cell_type": "markdown",
   "id": "2416182e-fae9-4ccd-b132-92a8529e1216",
   "metadata": {},
   "source": [
    "## Part 4 - Making the predictions and evaluating the model"
   ]
  },
  {
   "cell_type": "markdown",
   "id": "a3958f50-3171-46a1-a609-7190c8339b5b",
   "metadata": {},
   "source": [
    "### Predicting the result of a single observation"
   ]
  },
  {
   "cell_type": "markdown",
   "id": "eb9dc439-59f8-401f-80e6-085974285ffb",
   "metadata": {},
   "source": [
    "**Homework**\n",
    "\n",
    "Use our ANN model to predict if the customer with the following informations will leave the bank: \n",
    "\n",
    "Geography: France\n",
    "\n",
    "Credit Score: 600\n",
    "\n",
    "Gender: Male\n",
    "\n",
    "Age: 40 years old\n",
    "\n",
    "Tenure: 3 years\n",
    "\n",
    "Balance: \\$ 60000\n",
    "\n",
    "Number of Products: 2\n",
    "\n",
    "Does this customer have a credit card? Yes\n",
    "\n",
    "Is this customer an Active Member: Yes\n",
    "\n",
    "Estimated Salary: \\$ 50000\n",
    "\n",
    "So, should we say goodbye to that customer?"
   ]
  },
  {
   "cell_type": "markdown",
   "id": "554b7117-160c-4341-a4be-d43c1ba2fc5f",
   "metadata": {},
   "source": [
    "#### Solution"
   ]
  },
  {
   "cell_type": "code",
   "execution_count": 14,
   "id": "702e1652-8194-4825-addc-d2d87380aa5a",
   "metadata": {},
   "outputs": [
    {
     "name": "stdout",
     "output_type": "stream",
     "text": [
      "[[False]]\n"
     ]
    }
   ],
   "source": [
    "#setting the threshold of .5\n",
    "print(ann.predict(sc.transform([[1, 0, 0, 600, 1, 40, 3, 60000, 2, 1, 1, 50000]])) > 0.5)"
   ]
  },
  {
   "cell_type": "markdown",
   "id": "a915a2be-30ce-4be0-82a0-841527ebcb78",
   "metadata": {},
   "source": [
    "Therefore, our ANN model predicts that this customer stays in the bank!\n",
    "\n",
    "**Important note 1:** Notice that the values of the features were all input in a double pair of square brackets. That's because the \"predict\" method always expects a 2D array as the format of its inputs. And putting our values into a double pair of square brackets makes the input exactly a 2D array.\n",
    "\n",
    "**Important note 2:** Notice also that the \"France\" country was not input as a string in the last column but as \"1, 0, 0\" in the first three columns. That's because of course the predict method expects the one-hot-encoded values of the state, and as we see in the first row of the matrix of features X, \"France\" was encoded as \"1, 0, 0\". And be careful to include these values in the first three columns, because the dummy variables are always created in the first columns."
   ]
  },
  {
   "cell_type": "markdown",
   "id": "ac71af25-650a-411c-bbc7-4eecb109fb32",
   "metadata": {},
   "source": [
    "### Predicting the test set results"
   ]
  },
  {
   "cell_type": "code",
   "execution_count": 15,
   "id": "564a2197-7ff8-4ff7-9c79-0ea1f818925a",
   "metadata": {},
   "outputs": [
    {
     "name": "stdout",
     "output_type": "stream",
     "text": [
      "[[0 0]\n",
      " [0 1]\n",
      " [0 0]\n",
      " ...\n",
      " [0 0]\n",
      " [0 0]\n",
      " [0 0]]\n"
     ]
    }
   ],
   "source": [
    "y_pred = ann.predict(x_test)\n",
    "y_pred = (y_pred > 0.5)\n",
    "print(np.concatenate((y_pred.reshape(len(y_pred),1), y_test.reshape(len(y_test),1)),1))"
   ]
  },
  {
   "cell_type": "markdown",
   "id": "bf1e9f38-719a-4472-9c89-37d6f4e44c13",
   "metadata": {},
   "source": [
    "### Making the Confusion Matrix"
   ]
  },
  {
   "cell_type": "code",
   "execution_count": 17,
   "id": "8d2af220-b8a5-4a71-836a-5dacc6507f7e",
   "metadata": {},
   "outputs": [
    {
     "name": "stdout",
     "output_type": "stream",
     "text": [
      "[[1510   85]\n",
      " [ 193  212]]\n",
      "0.861\n"
     ]
    }
   ],
   "source": [
    "from sklearn.metrics import confusion_matrix\n",
    "from sklearn.metrics import accuracy_score\n",
    "cm = confusion_matrix(y_test, y_pred)\n",
    "a_score = accuracy_score(y_test, y_pred)\n",
    "print(cm)\n",
    "print(a_score)"
   ]
  },
  {
   "cell_type": "code",
   "execution_count": null,
   "id": "7e6e5316-b6e6-4329-be62-fbfe4cdf7bb2",
   "metadata": {},
   "outputs": [],
   "source": [
    "    "
   ]
  }
 ],
 "metadata": {
  "kernelspec": {
   "display_name": "Python 3 (ipykernel)",
   "language": "python",
   "name": "python3"
  },
  "language_info": {
   "codemirror_mode": {
    "name": "ipython",
    "version": 3
   },
   "file_extension": ".py",
   "mimetype": "text/x-python",
   "name": "python",
   "nbconvert_exporter": "python",
   "pygments_lexer": "ipython3",
   "version": "3.8.10"
  }
 },
 "nbformat": 4,
 "nbformat_minor": 5
}
