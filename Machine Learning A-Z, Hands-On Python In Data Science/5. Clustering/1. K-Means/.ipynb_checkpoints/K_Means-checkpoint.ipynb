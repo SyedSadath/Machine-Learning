{
 "cells": [
  {
   "cell_type": "markdown",
   "id": "979516c3-9df8-448c-bd4a-eb60e2db3393",
   "metadata": {},
   "source": [
    "### Importing the libraries"
   ]
  },
  {
   "cell_type": "code",
   "execution_count": 1,
   "id": "5a79f877-738c-4a56-92de-d2b09178764c",
   "metadata": {},
   "outputs": [],
   "source": [
    "import numpy as np\n",
    "import pandas as pd\n",
    "from matplotlib import pyplot as plt"
   ]
  },
  {
   "cell_type": "markdown",
   "id": "45689f88-4429-46c4-b02a-ec90bb853985",
   "metadata": {},
   "source": [
    "### Importing the dataset"
   ]
  },
  {
   "cell_type": "code",
   "execution_count": 2,
   "id": "406f0f45-4e1c-4096-945d-58e45abd5e54",
   "metadata": {},
   "outputs": [],
   "source": [
    "dataset = pd.read_csv('Mall_Customers.csv')\n",
    "\n",
    "# This Below line is change\n",
    "x = dataset.iloc[:, 3:].values"
   ]
  },
  {
   "cell_type": "markdown",
   "id": "c6a789c4-2a03-4b21-b08a-7ef406b2400c",
   "metadata": {},
   "source": [
    "### using the elbow method to find the optimal number of clusters"
   ]
  },
  {
   "cell_type": "code",
   "execution_count": 3,
   "id": "2d906c53-09a3-4f32-97fe-3a340482127c",
   "metadata": {},
   "outputs": [
    {
     "data": {
      "text/plain": [
       "[<matplotlib.lines.Line2D at 0x7efc8038e2b0>]"
      ]
     },
     "execution_count": 3,
     "metadata": {},
     "output_type": "execute_result"
    },
    {
     "data": {
      "image/png": "[encoded data removed]",
      "text/plain": [
       "<Figure size 432x288 with 1 Axes>"
      ]
     },
     "metadata": {
      "needs_background": "light"
     },
     "output_type": "display_data"
    }
   ],
   "source": [
    "from sklearn.cluster import KMeans\n",
    "wcss = []\n",
    "for i in range(1,11):\n",
    "    kmeans = KMeans(n_clusters=i, init='k-means++', random_state=42)\n",
    "    kmeans.fit(x)\n",
    "    wcss.append(kmeans.inertia_)\n",
    "\n",
    "wcss\n",
    "\n",
    "plt.scatter([x for x in range(1,11)], wcss, color='red')\n",
    "plt.plot([x for x in range(1,11)], wcss)"
   ]
  },
  {
   "cell_type": "markdown",
   "id": "1f707474-5daa-4e42-8df3-53aa08d195cb",
   "metadata": {},
   "source": [
    "### Training the Dataset on the Kmeans model"
   ]
  },
  {
   "cell_type": "markdown",
   "id": "cf5a703b-fd82-4352-a3fa-3125c867d768",
   "metadata": {},
   "source": [
    "### Testing the Model"
   ]
  },
  {
   "cell_type": "markdown",
   "id": "108c2606-d71f-41be-83cd-b637978f4e12",
   "metadata": {},
   "source": [
    "### Visualising the Results"
   ]
  },
  {
   "cell_type": "code",
   "execution_count": null,
   "id": "de7937c5-2394-4345-bcda-fddd654ee533",
   "metadata": {},
   "outputs": [],
   "source": []
  }
 ],
 "metadata": {
  "kernelspec": {
   "display_name": "Python 3 (ipykernel)",
   "language": "python",
   "name": "python3"
  },
  "language_info": {
   "codemirror_mode": {
    "name": "ipython",
    "version": 3
   },
   "file_extension": ".py",
   "mimetype": "text/x-python",
   "name": "python",
   "nbconvert_exporter": "python",
   "pygments_lexer": "ipython3",
   "version": "3.8.10"
  }
 },
 "nbformat": 4,
 "nbformat_minor": 5
}
