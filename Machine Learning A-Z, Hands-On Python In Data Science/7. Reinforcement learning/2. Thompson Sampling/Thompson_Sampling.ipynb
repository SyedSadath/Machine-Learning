{
 "cells": [
  {
   "cell_type": "markdown",
   "id": "d2a07ce8-f85b-452c-ac50-09bcae53a4a5",
   "metadata": {},
   "source": [
    "### Importing the libraries"
   ]
  },
  {
   "cell_type": "code",
   "execution_count": 1,
   "id": "6bd5744b-136a-4fc4-95e2-53d3cce67c3b",
   "metadata": {},
   "outputs": [],
   "source": [
    "import pandas as pd\n",
    "import numpy as np\n",
    "import matplotlib.pyplot as plt"
   ]
  },
  {
   "cell_type": "markdown",
   "id": "7e78d673-d776-4cb4-af26-69851332cd8f",
   "metadata": {},
   "source": [
    "### Importing the dataset"
   ]
  },
  {
   "cell_type": "code",
   "execution_count": 2,
   "id": "bad15aac-6e88-4ace-a512-bc42160076d6",
   "metadata": {},
   "outputs": [],
   "source": [
    "dataset = pd.read_csv('Ads_CTR_Optimisation.csv')"
   ]
  },
  {
   "cell_type": "markdown",
   "id": "09643d8e-b121-4173-8af7-07d7d072c5ea",
   "metadata": {},
   "source": [
    "### Implementing thompson sampling"
   ]
  },
  {
   "cell_type": "code",
   "execution_count": 3,
   "id": "6c2d3ec5-680a-4266-9bfd-e2ec72c14e48",
   "metadata": {},
   "outputs": [],
   "source": [
    "import random\n",
    "N = len(dataset)-9500 #Total_Users\n",
    "d = len(dataset.columns) #Total_Ads\n",
    "ads_selected = []\n",
    "numbers_of_rewards_1 = [0] * d\n",
    "numbers_of_rewards_0 = [0] * d\n",
    "total_reward = 0\n",
    "\n",
    "for n in range(N):\n",
    "    ad = 0\n",
    "    max_random = 0\n",
    "    for i in range(d):\n",
    "        random_beta = random.betavariate(numbers_of_rewards_1[i] + 1, numbers_of_rewards_0[i] + 1)\n",
    "        if random_beta > max_random:\n",
    "            max_random = random_beta\n",
    "            ad = i\n",
    "    ads_selected.append(ad)\n",
    "    reward = dataset.values[n,ad]\n",
    "    if reward == 1:\n",
    "        numbers_of_rewards_1[ad] += 1\n",
    "    else:\n",
    "        numbers_of_rewards_0[ad] += 1\n",
    "    \n",
    "    total_reward += reward"
   ]
  },
  {
   "cell_type": "code",
   "execution_count": 4,
   "id": "2c238151-332f-4a24-962b-4ab686bef38c",
   "metadata": {},
   "outputs": [],
   "source": [
    "### Visualising the results - Histogram"
   ]
  },
  {
   "cell_type": "code",
   "execution_count": 5,
   "id": "92d4b42a-ea6f-47aa-b924-8098ea1b5007",
   "metadata": {},
   "outputs": [
    {
     "data": {
      "image/png": "[encoded data removed]",
      "text/plain": [
       "<Figure size 432x288 with 1 Axes>"
      ]
     },
     "metadata": {
      "needs_background": "light"
     },
     "output_type": "display_data"
    }
   ],
   "source": [
    "plt.hist(ads_selected)\n",
    "plt.title('histogram of ads selection')\n",
    "plt.xlabel('Ads')\n",
    "plt.ylabel('Number of time each ads was selected')\n",
    "plt.show()"
   ]
  }
 ],
 "metadata": {
  "kernelspec": {
   "display_name": "Python 3 (ipykernel)",
   "language": "python",
   "name": "python3"
  },
  "language_info": {
   "codemirror_mode": {
    "name": "ipython",
    "version": 3
   },
   "file_extension": ".py",
   "mimetype": "text/x-python",
   "name": "python",
   "nbconvert_exporter": "python",
   "pygments_lexer": "ipython3",
   "version": "3.8.10"
  }
 },
 "nbformat": 4,
 "nbformat_minor": 5
}
