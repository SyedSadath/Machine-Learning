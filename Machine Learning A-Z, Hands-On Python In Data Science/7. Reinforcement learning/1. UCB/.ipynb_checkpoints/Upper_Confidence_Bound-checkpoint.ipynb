{
 "cells": [
  {
   "cell_type": "markdown",
   "id": "a9d52ee1-9263-43c7-9370-4cbe960dccf5",
   "metadata": {},
   "source": [
    "### Importing the libraries"
   ]
  },
  {
   "cell_type": "code",
   "execution_count": 1,
   "id": "39a18520-731c-49ed-8511-8bd53b990fa2",
   "metadata": {},
   "outputs": [],
   "source": [
    "import numpy as np\n",
    "import pandas as pd\n",
    "import matplotlib.pyplot as plt\n",
    "import math"
   ]
  },
  {
   "cell_type": "markdown",
   "id": "82c9961f-ecd7-4bca-ba71-70d2f4a45a7b",
   "metadata": {},
   "source": [
    "### Importing the dataset"
   ]
  },
  {
   "cell_type": "code",
   "execution_count": 2,
   "id": "f83ae14d-2cb0-4438-b88c-734c52de936f",
   "metadata": {},
   "outputs": [],
   "source": [
    "dataset = pd.read_csv('Ads_CTR_Optimisation.csv')"
   ]
  },
  {
   "cell_type": "code",
   "execution_count": 3,
   "id": "8c3ec8ba-26cf-446e-8da2-1c76b72bab48",
   "metadata": {},
   "outputs": [],
   "source": [
    "N = len(dataset) #Total_Users\n",
    "d = len(dataset.columns) #Total_Ads\n",
    "ads_selected = []\n",
    "numbers_of_selections = [0] * d\n",
    "sums_of_rewards = [0] * d\n",
    "total_reward = 0\n",
    "\n",
    "for n in range(N):\n",
    "    ad = 0\n",
    "    max_upper_bound = 0\n",
    "    for i in range(d):\n",
    "        if numbers_of_selections[i] > 0:\n",
    "            average_reward = sums_of_rewards[i] / numbers_of_selections[i]\n",
    "            delta_i = math.sqrt( (3/2) * (math.log(n+1) /  numbers_of_selections[i]) )\n",
    "            upper_bound = average_reward + delta_i\n",
    "            confidence_interval = [average_reward - delta_i, average_reward + delta_i]\n",
    "        else :\n",
    "            upper_bound = 1e400\n",
    "        if(upper_bound > max_upper_bound):\n",
    "            max_upper_bound = upper_bound\n",
    "            ad = i\n",
    "    ads_selected.append(ad)\n",
    "    numbers_of_selections[ad] += 1\n",
    "    reward = dataset.values[n, ad]\n",
    "    sums_of_rewards[ad] += reward\n",
    "    total_reward += reward"
   ]
  },
  {
   "cell_type": "markdown",
   "id": "8d78cbab-2fd3-44e2-8990-181236803063",
   "metadata": {},
   "source": [
    "### Visualising the results"
   ]
  },
  {
   "cell_type": "code",
   "execution_count": 4,
   "id": "64434ead-75e7-48bd-9274-98796b87fa15",
   "metadata": {},
   "outputs": [
    {
     "data": {
      "image/png": "[encoded data removed]",
      "text/plain": [
       "<Figure size 432x288 with 1 Axes>"
      ]
     },
     "metadata": {
      "needs_background": "light"
     },
     "output_type": "display_data"
    }
   ],
   "source": [
    "plt.hist(ads_selected)\n",
    "plt.title('histogram of ads selection')\n",
    "plt.xlabel('Ads')\n",
    "plt.ylabel('Number of time each ads was selected')\n",
    "plt.show()"
   ]
  }
 ],
 "metadata": {
  "kernelspec": {
   "display_name": "Python 3 (ipykernel)",
   "language": "python",
   "name": "python3"
  },
  "language_info": {
   "codemirror_mode": {
    "name": "ipython",
    "version": 3
   },
   "file_extension": ".py",
   "mimetype": "text/x-python",
   "name": "python",
   "nbconvert_exporter": "python",
   "pygments_lexer": "ipython3",
   "version": "3.8.10"
  }
 },
 "nbformat": 4,
 "nbformat_minor": 5
}
