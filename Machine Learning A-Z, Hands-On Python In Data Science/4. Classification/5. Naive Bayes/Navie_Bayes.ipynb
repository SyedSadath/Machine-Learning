{
 "cells": [
  {
   "cell_type": "markdown",
   "id": "cf84ba67-f8a1-4d3b-ae3d-471e9ebdb3b1",
   "metadata": {},
   "source": [
    "### Importing the libraries"
   ]
  },
  {
   "cell_type": "code",
   "execution_count": 1,
   "id": "97fa24d1-d1fa-4089-81de-972b28e0925a",
   "metadata": {},
   "outputs": [],
   "source": [
    "import pandas as pd\n",
    "import numpy as np\n",
    "from matplotlib import pyplot as plt"
   ]
  },
  {
   "cell_type": "code",
   "execution_count": 2,
   "id": "811256a4-48e1-4d54-8ceb-d8732ab83e1e",
   "metadata": {},
   "outputs": [],
   "source": [
    "from IPython.core.interactiveshell import InteractiveShell\n",
    "InteractiveShell.ast_node_interactivity = \"all\""
   ]
  },
  {
   "cell_type": "markdown",
   "id": "2e103624-6994-4224-880b-da7567a8bd4d",
   "metadata": {},
   "source": [
    "### Importing the dataset"
   ]
  },
  {
   "cell_type": "code",
   "execution_count": 3,
   "id": "deab8be8-8138-4ba2-9550-84eb05f291ca",
   "metadata": {},
   "outputs": [],
   "source": [
    "dataset = pd.read_csv('Social_Network_Ads.csv')\n",
    "x = dataset.iloc[:, :-1]\n",
    "y = dataset.iloc[:, -1:]"
   ]
  },
  {
   "cell_type": "markdown",
   "id": "27298528-66ae-4f68-a16e-7b30b101fe92",
   "metadata": {},
   "source": [
    "### Splitting the dataset"
   ]
  },
  {
   "cell_type": "code",
   "execution_count": 4,
   "id": "3c1ffbdd-322e-42b2-8bb9-0fdc4af4f5d5",
   "metadata": {},
   "outputs": [],
   "source": [
    "from sklearn.model_selection import train_test_split\n",
    "x_train, x_test, y_train, y_test = train_test_split(x,y, test_size=0.25, random_state=0)"
   ]
  },
  {
   "cell_type": "markdown",
   "id": "41521461-799e-4bfe-9b5a-52a4f17adf11",
   "metadata": {},
   "source": [
    "### Future scaling"
   ]
  },
  {
   "cell_type": "code",
   "execution_count": 5,
   "id": "93ec5dd7-87e2-4b8d-93b4-ef8d4f36013b",
   "metadata": {},
   "outputs": [],
   "source": [
    "from sklearn.preprocessing import StandardScaler\n",
    "sm = StandardScaler()\n",
    "x_train = sm.fit_transform(x_train)\n",
    "x_test = sm.transform(x_test)"
   ]
  },
  {
   "cell_type": "markdown",
   "id": "b52fc2a6-f3d3-4234-a362-1c200bd5e92b",
   "metadata": {},
   "source": [
    "### Training the Navie_Bayes Model"
   ]
  },
  {
   "cell_type": "code",
   "execution_count": 6,
   "id": "1764c113-7b3e-43e8-adf8-ef6e981f367d",
   "metadata": {},
   "outputs": [
    {
     "name": "stderr",
     "output_type": "stream",
     "text": [
      "/home/elliot/venv/lib/python3.8/site-packages/sklearn/utils/validation.py:985: DataConversionWarning: A column-vector y was passed when a 1d array was expected. Please change the shape of y to (n_samples, ), for example using ravel().\n",
      "  y = column_or_1d(y, warn=True)\n"
     ]
    },
    {
     "data": {
      "text/plain": [
       "GaussianNB()"
      ]
     },
     "execution_count": 6,
     "metadata": {},
     "output_type": "execute_result"
    }
   ],
   "source": [
    "from sklearn.naive_bayes import GaussianNB\n",
    "classifier = GaussianNB()\n",
    "classifier.fit(x_train, y_train)"
   ]
  },
  {
   "cell_type": "markdown",
   "id": "b82ba0c0-882e-4d4f-9f89-5af0e53509b5",
   "metadata": {},
   "source": [
    "### Predicting the result"
   ]
  },
  {
   "cell_type": "code",
   "execution_count": 7,
   "id": "2c8180ae-1687-441e-8cce-b0b898071954",
   "metadata": {},
   "outputs": [],
   "source": [
    "y_pred = classifier.predict(x_test)"
   ]
  },
  {
   "cell_type": "markdown",
   "id": "6247dd73-9a89-4a18-a060-c0db666ce520",
   "metadata": {},
   "source": [
    "### Calculating the confusion_matrix and accuracy score"
   ]
  },
  {
   "cell_type": "code",
   "execution_count": 8,
   "id": "f73ba3c1-fc9b-4a84-b177-413b05d267c9",
   "metadata": {},
   "outputs": [
    {
     "data": {
      "text/plain": [
       "array([[65,  3],\n",
       "       [ 7, 25]])"
      ]
     },
     "execution_count": 8,
     "metadata": {},
     "output_type": "execute_result"
    },
    {
     "data": {
      "text/plain": [
       "0.9"
      ]
     },
     "execution_count": 8,
     "metadata": {},
     "output_type": "execute_result"
    }
   ],
   "source": [
    "from sklearn.metrics import confusion_matrix\n",
    "from sklearn.metrics import accuracy_score\n",
    "\n",
    "cm = confusion_matrix(y_test, y_pred)\n",
    "a_score = accuracy_score(y_test, y_pred)\n",
    "\n",
    "cm\n",
    "a_score"
   ]
  }
 ],
 "metadata": {
  "kernelspec": {
   "display_name": "Python 3 (ipykernel)",
   "language": "python",
   "name": "python3"
  },
  "language_info": {
   "codemirror_mode": {
    "name": "ipython",
    "version": 3
   },
   "file_extension": ".py",
   "mimetype": "text/x-python",
   "name": "python",
   "nbconvert_exporter": "python",
   "pygments_lexer": "ipython3",
   "version": "3.8.10"
  }
 },
 "nbformat": 4,
 "nbformat_minor": 5
}
