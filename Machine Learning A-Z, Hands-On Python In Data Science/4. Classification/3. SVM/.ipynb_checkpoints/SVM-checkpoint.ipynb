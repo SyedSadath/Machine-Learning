{
 "cells": [
  {
   "cell_type": "markdown",
   "id": "dc3a5319-f9c4-4457-9227-11654ac7c773",
   "metadata": {},
   "source": [
    "### Importing the Libraries"
   ]
  },
  {
   "cell_type": "code",
   "execution_count": 1,
   "id": "14622c44-cad8-47fe-aff3-9466a0f51897",
   "metadata": {},
   "outputs": [],
   "source": [
    "import pandas as pd\n",
    "import numpy as np\n",
    "from matplotlib import pyplot as plt "
   ]
  },
  {
   "cell_type": "code",
   "execution_count": 2,
   "id": "89d6d7ef-390c-421f-9043-31ba4060b3ed",
   "metadata": {},
   "outputs": [],
   "source": [
    "from IPython.core.interactiveshell import InteractiveShell\n",
    "InteractiveShell.ast_node_interactivity = \"all\""
   ]
  },
  {
   "cell_type": "markdown",
   "id": "e0c6f6c6-5ed3-45ae-8100-2f12e0364d60",
   "metadata": {},
   "source": [
    "### Importing the Dataset"
   ]
  },
  {
   "cell_type": "code",
   "execution_count": 3,
   "id": "2152e8b9-0c33-48f1-a04b-7aab2a0fbe52",
   "metadata": {},
   "outputs": [],
   "source": [
    "dataset = pd.read_csv('Social_Network_Ads.csv')\n",
    "x = dataset.iloc[:, :-1].values\n",
    "y = dataset.iloc[:, -1:].values"
   ]
  },
  {
   "cell_type": "markdown",
   "id": "b475cbca-45f0-493a-a202-3cf549e973f5",
   "metadata": {},
   "source": [
    "### Splitting the dataset into Test_set and Trainging_set"
   ]
  },
  {
   "cell_type": "code",
   "execution_count": 4,
   "id": "5764a59f-138d-4502-ba81-4d19f2acb295",
   "metadata": {},
   "outputs": [],
   "source": [
    "from sklearn.model_selection import train_test_split\n",
    "x_train, x_test, y_train, y_test = train_test_split(x, y, test_size=0.25, random_state=0)"
   ]
  },
  {
   "cell_type": "markdown",
   "id": "d8f23b3f-5de6-4f3b-8152-f9355bba3022",
   "metadata": {},
   "source": [
    "### Future Scaling"
   ]
  },
  {
   "cell_type": "code",
   "execution_count": 11,
   "id": "9459266c-7e8f-4f60-8b70-da2b9733b5c8",
   "metadata": {},
   "outputs": [],
   "source": [
    "from sklearn.preprocessing import StandardScaler\n",
    "sc = StandardScaler()\n",
    "x_train = sc.fit_transform(x_train)\n",
    "x_test = sc.transform(x_test)"
   ]
  },
  {
   "cell_type": "markdown",
   "id": "a42d8a25-6893-4d93-bb9f-a88cf11e86e3",
   "metadata": {},
   "source": [
    "### Training the SVM model on the training set"
   ]
  },
  {
   "cell_type": "code",
   "execution_count": 12,
   "id": "f7344ea8-9f98-4805-b732-1de095416d9d",
   "metadata": {},
   "outputs": [
    {
     "name": "stderr",
     "output_type": "stream",
     "text": [
      "/home/elliot/venv/lib/python3.8/site-packages/sklearn/utils/validation.py:985: DataConversionWarning: A column-vector y was passed when a 1d array was expected. Please change the shape of y to (n_samples, ), for example using ravel().\n",
      "  y = column_or_1d(y, warn=True)\n"
     ]
    },
    {
     "data": {
      "text/plain": [
       "Pipeline(steps=[('standardscaler', StandardScaler()),\n",
       "                ('svc', SVC(gamma='auto'))])"
      ]
     },
     "execution_count": 12,
     "metadata": {},
     "output_type": "execute_result"
    }
   ],
   "source": [
    "from sklearn.pipeline import make_pipeline\n",
    "from sklearn.svm import SVC\n",
    "\n",
    "classifier = make_pipeline(StandardScaler(), SVC(gamma='auto'))\n",
    "classifier.fit(x_train,y_train)"
   ]
  },
  {
   "cell_type": "markdown",
   "id": "5a0c98b0-9ca1-4857-8d9c-542786e3f88e",
   "metadata": {},
   "source": [
    "### Predicting a new result"
   ]
  },
  {
   "cell_type": "code",
   "execution_count": null,
   "id": "fe0771a2-ee90-428e-ade9-d2eda9447c5f",
   "metadata": {},
   "outputs": [],
   "source": [
    "print(classifier.predict(sc.transform([[30,87000]])))"
   ]
  },
  {
   "cell_type": "code",
   "execution_count": 14,
   "id": "40476a72-1c54-40eb-bfaf-c231e27c82d8",
   "metadata": {},
   "outputs": [],
   "source": [
    "test = [[30,87000]]"
   ]
  }
 ],
 "metadata": {
  "kernelspec": {
   "display_name": "Python 3 (ipykernel)",
   "language": "python",
   "name": "python3"
  },
  "language_info": {
   "codemirror_mode": {
    "name": "ipython",
    "version": 3
   },
   "file_extension": ".py",
   "mimetype": "text/x-python",
   "name": "python",
   "nbconvert_exporter": "python",
   "pygments_lexer": "ipython3",
   "version": "3.8.10"
  }
 },
 "nbformat": 4,
 "nbformat_minor": 5
}
