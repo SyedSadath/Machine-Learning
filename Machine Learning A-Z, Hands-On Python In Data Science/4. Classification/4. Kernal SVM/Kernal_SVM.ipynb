{
 "cells": [
  {
   "cell_type": "markdown",
   "id": "b1b854f7-92fb-4133-8ce6-0a8d6d2a2b55",
   "metadata": {},
   "source": [
    "### Importing the libraries"
   ]
  },
  {
   "cell_type": "code",
   "execution_count": 1,
   "id": "413a3892-82d4-486d-be8e-362083e2e326",
   "metadata": {},
   "outputs": [],
   "source": [
    "import pandas as pd\n",
    "import numpy as np\n",
    "from matplotlib import pyplot as plt"
   ]
  },
  {
   "cell_type": "markdown",
   "id": "c9b70eaa-7709-4d5f-b775-47c7958d5973",
   "metadata": {},
   "source": [
    "### preparing the dataset"
   ]
  },
  {
   "cell_type": "code",
   "execution_count": 2,
   "id": "6d707d33-5663-455f-a2c8-bbcd553c7eb1",
   "metadata": {},
   "outputs": [],
   "source": [
    "dataset = pd.read_csv('Social_Network_Ads.csv')\n",
    "x = dataset.iloc[:, :-1]\n",
    "y = dataset.iloc[:, -1:]"
   ]
  },
  {
   "cell_type": "markdown",
   "id": "99703827-d65a-4e4b-b8c2-29d7ba06448a",
   "metadata": {},
   "source": [
    "### Splitting the dataset into training set and test set"
   ]
  },
  {
   "cell_type": "code",
   "execution_count": 3,
   "id": "92e741d5-5937-4dac-866b-5fcaf6f2d55e",
   "metadata": {},
   "outputs": [],
   "source": [
    "from sklearn.model_selection import train_test_split\n",
    "x_train, x_test, y_train, y_test = train_test_split(x,y,test_size=0.25, random_state=0)"
   ]
  },
  {
   "cell_type": "markdown",
   "id": "ecdff3a7-9954-4d29-8712-1e62928a2237",
   "metadata": {},
   "source": [
    "### Feature Scaling"
   ]
  },
  {
   "cell_type": "code",
   "execution_count": 4,
   "id": "0b7b8437-1e15-4c17-99d5-94894df9e9cd",
   "metadata": {},
   "outputs": [],
   "source": [
    "from sklearn.preprocessing import StandardScaler\n",
    "sc = StandardScaler()\n",
    "x_train = sc.fit_transform(x_train)\n",
    "x_test = sc.transform(x_test)"
   ]
  },
  {
   "cell_type": "markdown",
   "id": "119b24a4-dfe7-43f5-978b-a068bef6285c",
   "metadata": {},
   "source": [
    "### Training the Kernal SVM Model on the traing dataset"
   ]
  },
  {
   "cell_type": "code",
   "execution_count": 5,
   "id": "4df8c9e9-b1e5-4f50-9b9f-fba0a17e8935",
   "metadata": {},
   "outputs": [
    {
     "name": "stderr",
     "output_type": "stream",
     "text": [
      "/home/elliot/venv/lib/python3.8/site-packages/sklearn/utils/validation.py:985: DataConversionWarning: A column-vector y was passed when a 1d array was expected. Please change the shape of y to (n_samples, ), for example using ravel().\n",
      "  y = column_or_1d(y, warn=True)\n"
     ]
    },
    {
     "data": {
      "text/plain": [
       "SVC(random_state=0)"
      ]
     },
     "execution_count": 5,
     "metadata": {},
     "output_type": "execute_result"
    }
   ],
   "source": [
    "from sklearn.svm import SVC\n",
    "classifier = SVC(kernel='rbf', random_state=0)\n",
    "classifier.fit(x_train,y_train)"
   ]
  },
  {
   "cell_type": "markdown",
   "id": "05065db1-ad61-4afc-8cad-b22d9c45594a",
   "metadata": {},
   "source": [
    "### Predicting the new result"
   ]
  },
  {
   "cell_type": "code",
   "execution_count": 6,
   "id": "ee2228dd-6935-4591-948b-a73a9870dd75",
   "metadata": {},
   "outputs": [],
   "source": [
    "y_pred = classifier.predict(x_test)"
   ]
  },
  {
   "cell_type": "markdown",
   "id": "5ee9321a-645d-4063-8e72-79a837c38415",
   "metadata": {},
   "source": [
    "### Preparing the confusion matrix and calculating the accuracy score"
   ]
  },
  {
   "cell_type": "code",
   "execution_count": null,
   "id": "f3473363-11d8-4738-9472-fe06db9945dc",
   "metadata": {},
   "outputs": [],
   "source": [
    "from sklearn.metrics import confusion_matrix\n",
    "from sklearn.metrics import accuracy_score\n",
    "\n",
    "cm = confusion_matrix(y_test, y_pred)\n",
    "a_score = accuracy_score(y_test, y_pred)\n",
    "\n",
    "cm\n",
    "a_score"
   ]
  }
 ],
 "metadata": {
  "kernelspec": {
   "display_name": "Python 3 (ipykernel)",
   "language": "python",
   "name": "python3"
  },
  "language_info": {
   "codemirror_mode": {
    "name": "ipython",
    "version": 3
   },
   "file_extension": ".py",
   "mimetype": "text/x-python",
   "name": "python",
   "nbconvert_exporter": "python",
   "pygments_lexer": "ipython3",
   "version": "3.8.10"
  }
 },
 "nbformat": 4,
 "nbformat_minor": 5
}
